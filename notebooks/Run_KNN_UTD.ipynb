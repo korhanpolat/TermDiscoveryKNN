{
 "cells": [
  {
   "cell_type": "code",
   "execution_count": null,
   "metadata": {},
   "outputs": [
    {
     "ename": "",
     "evalue": "",
     "output_type": "error",
     "traceback": [
      "\u001b[1;31mFailed to start the Kernel. \n",
      "Kernel tez2 (Python 3.6.13) is not usable. Check the Jupyter output tab for more information. \n",
      "View Jupyter <a href='command:jupyter.viewOutput'>log</a> for further details."
     ]
    }
   ],
   "source": [
    "from knn.discoverer import KnnDiscovery\n",
    "import os\n",
    "import numpy as np"
   ]
  },
  {
   "cell_type": "markdown",
   "metadata": {},
   "source": [
    "#### load features\n",
    "\n",
    "Our UTD algorithm searches for motifs over a dictionary of feature arrays.  \n",
    "The keys are *sequence names (identifiers)* and values are `numpy` arrays of shape `[T x d]`  \n",
    "where `T` is sequence length and `d` is the features' dimension."
   ]
  },
  {
   "cell_type": "code",
   "execution_count": 3,
   "metadata": {},
   "outputs": [
    {
     "data": {
      "text/plain": [
       "((183, 61), 470)"
      ]
     },
     "execution_count": 3,
     "metadata": {},
     "output_type": "execute_result"
    }
   ],
   "source": [
    "feats_dir = '../data/sample/features/phoenix_Signer03_deephand/'\n",
    "\n",
    "feats_dict = {}\n",
    "for fname in os.listdir(feats_dir):\n",
    "    seq_name = fname.replace('.npy','')\n",
    "    feats_dict[seq_name] = np.load(os.path.join(feats_dir, fname))\n",
    "    \n",
    "feats_dict[seq_name].shape, len(feats_dict)"
   ]
  },
  {
   "cell_type": "markdown",
   "metadata": {},
   "source": [
    "#### define parameters\n",
    "\n",
    "The definitions of the parameters are as follows:\n",
    "- `a` : stepsize for temporal segmentations\n",
    "- `lmin,lmax` : Min and max lengths for segment cuts \n",
    "- `dim_fix` : Dimension of fixed-length temporal embeddings\n",
    "- `r,s` : Parameters for Gaussian kernel embedding\n",
    "- `k` : Search for top K nearest neighbours for each segment\n",
    "- `metric` : Distance metric for KNN\n",
    "- `norm` : Normalize features or not (FAISS parameter)\n",
    "- `pca` :  FAISS PCA parameter, `PCAW40` applies whitened PCA, transforms into 40 dimensions\n",
    "- `olapthr_m` : Max allowed overlap ratio between pairs\n",
    "- `top_delta` : Pick top $\\delta \\%$ of pairs with lowest distance"
   ]
  },
  {
   "cell_type": "code",
   "execution_count": 4,
   "metadata": {},
   "outputs": [],
   "source": [
    "params = {'disc': {\n",
    "                    'a': 4,\n",
    "                    'dim_fix': 10,\n",
    "                    'emb_type': 'gauss_kernel',\n",
    "                    'k': 100,\n",
    "                    'lmax': 28,\n",
    "                    'lmin': 4,\n",
    "                    'metric': 'L2',\n",
    "                    'norm': False,\n",
    "                    'olapthr_m': 0.25,\n",
    "                    'pca': '',\n",
    "                    'r': 0.2,\n",
    "                    's': 0.2,\n",
    "                    'seg_type': 'uniform',\n",
    "                    'top_delta': 0.02,\n",
    "                    'use_gpu': True\n",
    "                    }\n",
    "         }"
   ]
  },
  {
   "cell_type": "markdown",
   "metadata": {},
   "source": [
    "### run"
   ]
  },
  {
   "cell_type": "code",
   "execution_count": 5,
   "metadata": {},
   "outputs": [
    {
     "name": "stdout",
     "output_type": "stream",
     "text": [
      "Computing Embeddings\n",
      "Building index of size 208739x610\n",
      "Searching index\n",
      "Selecting good pairs\n"
     ]
    }
   ],
   "source": [
    "knndisc = KnnDiscovery(feats_dict, params)\n",
    "matches_df = knndisc.run()"
   ]
  },
  {
   "cell_type": "markdown",
   "metadata": {},
   "source": [
    "### output format\n",
    "\n",
    "A `pandas` dataframe, where each row corresponds to a discovered pair of segments.  \n",
    "\n",
    "Column names refer to:\n",
    "- `seg_id` --> The ID's for each pair, among many segments that are extracted from input sequences\n",
    "- `f1,f2` --> Names of the sequences to which the discovered segments belong\n",
    "- `f1_id,f2_id` --> ID's of sequences to which the discovered segments belong\n",
    "- `f1_start, f1_end` --> Onset and offset indices for the 1st segment of the discovered pair\n",
    "- `f2_start, f2_end` --> Onset and offset indices for the 2nd segment of the discovered pair\n",
    "- `cost` --> Distance between segment embedding vectors, computed during KNN search"
   ]
  },
  {
   "cell_type": "code",
   "execution_count": 6,
   "metadata": {
    "scrolled": true
   },
   "outputs": [
    {
     "data": {
      "text/html": [
       "<div>\n",
       "<style scoped>\n",
       "    .dataframe tbody tr th:only-of-type {\n",
       "        vertical-align: middle;\n",
       "    }\n",
       "\n",
       "    .dataframe tbody tr th {\n",
       "        vertical-align: top;\n",
       "    }\n",
       "\n",
       "    .dataframe thead th {\n",
       "        text-align: right;\n",
       "    }\n",
       "</style>\n",
       "<table border=\"1\" class=\"dataframe\">\n",
       "  <thead>\n",
       "    <tr style=\"text-align: right;\">\n",
       "      <th></th>\n",
       "      <th>seg_id1</th>\n",
       "      <th>seg_id2</th>\n",
       "      <th>f1</th>\n",
       "      <th>f2</th>\n",
       "      <th>f1_id</th>\n",
       "      <th>f2_id</th>\n",
       "      <th>f1_start</th>\n",
       "      <th>f1_end</th>\n",
       "      <th>f2_start</th>\n",
       "      <th>f2_end</th>\n",
       "      <th>cost</th>\n",
       "    </tr>\n",
       "  </thead>\n",
       "  <tbody>\n",
       "    <tr>\n",
       "      <th>0</th>\n",
       "      <td>19</td>\n",
       "      <td>67485</td>\n",
       "      <td>22April_2010_Thursday_heute_default-13</td>\n",
       "      <td>26January_2010_Tuesday_tagesschau_default-5</td>\n",
       "      <td>0</td>\n",
       "      <td>152</td>\n",
       "      <td>16</td>\n",
       "      <td>32</td>\n",
       "      <td>132</td>\n",
       "      <td>148</td>\n",
       "      <td>14.063904</td>\n",
       "    </tr>\n",
       "    <tr>\n",
       "      <th>1</th>\n",
       "      <td>23</td>\n",
       "      <td>136202</td>\n",
       "      <td>22April_2010_Thursday_heute_default-13</td>\n",
       "      <td>16July_2009_Thursday_tagesschau_default-9</td>\n",
       "      <td>0</td>\n",
       "      <td>305</td>\n",
       "      <td>16</td>\n",
       "      <td>48</td>\n",
       "      <td>44</td>\n",
       "      <td>136</td>\n",
       "      <td>14.387695</td>\n",
       "    </tr>\n",
       "    <tr>\n",
       "      <th>2</th>\n",
       "      <td>20</td>\n",
       "      <td>196105</td>\n",
       "      <td>22April_2010_Thursday_heute_default-13</td>\n",
       "      <td>21May_2010_Friday_tagesschau_default-14</td>\n",
       "      <td>0</td>\n",
       "      <td>440</td>\n",
       "      <td>16</td>\n",
       "      <td>36</td>\n",
       "      <td>24</td>\n",
       "      <td>40</td>\n",
       "      <td>14.872192</td>\n",
       "    </tr>\n",
       "  </tbody>\n",
       "</table>\n",
       "</div>"
      ],
      "text/plain": [
       "   seg_id1  seg_id2                                      f1  \\\n",
       "0       19    67485  22April_2010_Thursday_heute_default-13   \n",
       "1       23   136202  22April_2010_Thursday_heute_default-13   \n",
       "2       20   196105  22April_2010_Thursday_heute_default-13   \n",
       "\n",
       "                                            f2  f1_id  f2_id  f1_start  \\\n",
       "0  26January_2010_Tuesday_tagesschau_default-5      0    152        16   \n",
       "1    16July_2009_Thursday_tagesschau_default-9      0    305        16   \n",
       "2      21May_2010_Friday_tagesschau_default-14      0    440        16   \n",
       "\n",
       "   f1_end  f2_start  f2_end       cost  \n",
       "0      32       132     148  14.063904  \n",
       "1      48        44     136  14.387695  \n",
       "2      36        24      40  14.872192  "
      ]
     },
     "execution_count": 6,
     "metadata": {},
     "output_type": "execute_result"
    }
   ],
   "source": [
    "matches_df.head(3)"
   ]
  },
  {
   "cell_type": "code",
   "execution_count": null,
   "metadata": {},
   "outputs": [],
   "source": []
  }
 ],
 "metadata": {
  "interpreter": {
   "hash": "fbce83dfe1f753c302f60e51a65c388d4e5d01ae45fb9e1f160f19b69d68052d"
  },
  "kernelspec": {
   "display_name": "Python 3.6.8 64-bit ('tez': conda)",
   "name": "python3"
  },
  "language_info": {
   "codemirror_mode": {
    "name": "ipython",
    "version": 3
   },
   "file_extension": ".py",
   "mimetype": "text/x-python",
   "name": "python",
   "nbconvert_exporter": "python",
   "pygments_lexer": "ipython3",
   "version": "3.6.13"
  }
 },
 "nbformat": 4,
 "nbformat_minor": 2
}
