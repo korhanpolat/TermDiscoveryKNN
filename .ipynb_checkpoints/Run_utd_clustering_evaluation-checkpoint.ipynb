{
 "cells": [
  {
   "cell_type": "code",
   "execution_count": 1,
   "metadata": {},
   "outputs": [],
   "source": [
    "%load_ext autoreload\n",
    "%autoreload 2"
   ]
  },
  {
   "cell_type": "code",
   "execution_count": 2,
   "metadata": {},
   "outputs": [],
   "source": [
    "from knn.discoverer import KnnDiscovery\n",
    "import os\n",
    "import numpy as np\n",
    "from os.path import join\n",
    "import glob\n",
    "\n"
   ]
  },
  {
   "cell_type": "markdown",
   "metadata": {},
   "source": [
    "#### load features\n",
    "\n",
    "Our UTD algorithm searches for motifs over a dictionary of feature arrays.  \n",
    "The keys are *sequence names (identifiers)* and values are `numpy` arrays of shape `[T x d]`  \n",
    "where `T` is sequence length and `d` is the features' dimension."
   ]
  },
  {
   "cell_type": "code",
   "execution_count": 3,
   "metadata": {},
   "outputs": [
    {
     "data": {
      "text/plain": [
       "((183, 61), 470)"
      ]
     },
     "execution_count": 3,
     "metadata": {},
     "output_type": "execute_result"
    }
   ],
   "source": [
    "feats_dir = './data/phoenix_Signer03_deephand/'\n",
    "\n",
    "feats_dict = {}\n",
    "for fname in os.listdir(feats_dir):\n",
    "    seq_name = fname.replace('.npy','')\n",
    "    feats_dict[seq_name] = np.load(os.path.join(feats_dir, fname))\n",
    "    \n",
    "feats_dict[seq_name].shape, len(feats_dict)"
   ]
  },
  {
   "cell_type": "markdown",
   "metadata": {},
   "source": [
    "#### define parameters\n",
    "\n",
    "The definitions of the parameters are as follows:\n",
    "- `a` : stepsize for temporal segmentations\n",
    "- `lmin,lmax` : Min and max lengths for segment cuts \n",
    "- `dim_fix` : Dimension of fixed-length temporal embeddings\n",
    "- `r,s` : Parameters for Gaussian kernel embedding\n",
    "- `k` : Search for top K nearest neighbours for each segment\n",
    "- `metric` : Distance metric for KNN\n",
    "- `norm` : Normalize features or not (FAISS parameter)\n",
    "- `pca` :  FAISS PCA parameter, `PCAW40` applies whitened PCA, transforms into 40 dimensions\n",
    "- `olapthr_m` : Max allowed overlap ratio between pairs\n",
    "- `top_delta` : Pick top $\\delta \\%$ of pairs with lowest distance"
   ]
  },
  {
   "cell_type": "code",
   "execution_count": 4,
   "metadata": {},
   "outputs": [],
   "source": [
    "params = {'disc': {\n",
    "                    'a': 4,\n",
    "                    'dim_fix': 10,\n",
    "                    'emb_type': 'gauss_kernel',\n",
    "                    'k': 100,\n",
    "                    'lmax': 28,\n",
    "                    'lmin': 4,\n",
    "                    'metric': 'L2',\n",
    "                    'norm': False,\n",
    "                    'olapthr_m': 0.25,\n",
    "                    'pca': 'PCAW40',\n",
    "                    'r': 0.2,\n",
    "                    's': 0.2,\n",
    "                    'seg_type': 'uniform',\n",
    "                    'top_delta': 0.02,\n",
    "                    'use_gpu': True\n",
    "                    }\n",
    "         }"
   ]
  },
  {
   "cell_type": "markdown",
   "metadata": {},
   "source": [
    "### run"
   ]
  },
  {
   "cell_type": "code",
   "execution_count": 8,
   "metadata": {},
   "outputs": [
    {
     "name": "stdout",
     "output_type": "stream",
     "text": [
      "Computing Embeddings\n",
      "Building index of size 208739x610\n",
      "Searching index\n",
      "Selecting good pairs\n"
     ]
    }
   ],
   "source": [
    "knndisc = KnnDiscovery(feats_dict, params)\n",
    "matches_df = knndisc.run()"
   ]
  },
  {
   "cell_type": "markdown",
   "metadata": {},
   "source": [
    "### output format\n",
    "\n",
    "A `pandas` dataframe, where each row corresponds to a discovered pair of segments.  \n",
    "\n",
    "Column names refer to:\n",
    "- `seg_id` --> The ID's for each pair, among many segments that are extracted from input sequences\n",
    "- `f1,f2` --> Names of the sequences to which the discovered segments belong\n",
    "- `f1_id,f2_id` --> ID's of sequences to which the discovered segments belong\n",
    "- `f1_start, f1_end` --> Onset and offset indices for the 1st segment of the discovered pair\n",
    "- `f2_start, f2_end` --> Onset and offset indices for the 2nd segment of the discovered pair\n",
    "- `cost` --> Distance between segment embedding vectors, computed during KNN search"
   ]
  },
  {
   "cell_type": "code",
   "execution_count": 9,
   "metadata": {
    "scrolled": true
   },
   "outputs": [
    {
     "data": {
      "text/html": [
       "<div>\n",
       "<style scoped>\n",
       "    .dataframe tbody tr th:only-of-type {\n",
       "        vertical-align: middle;\n",
       "    }\n",
       "\n",
       "    .dataframe tbody tr th {\n",
       "        vertical-align: top;\n",
       "    }\n",
       "\n",
       "    .dataframe thead th {\n",
       "        text-align: right;\n",
       "    }\n",
       "</style>\n",
       "<table border=\"1\" class=\"dataframe\">\n",
       "  <thead>\n",
       "    <tr style=\"text-align: right;\">\n",
       "      <th></th>\n",
       "      <th>seg_id1</th>\n",
       "      <th>seg_id2</th>\n",
       "      <th>f1</th>\n",
       "      <th>f2</th>\n",
       "      <th>f1_id</th>\n",
       "      <th>f2_id</th>\n",
       "      <th>f1_start</th>\n",
       "      <th>f1_end</th>\n",
       "      <th>f2_start</th>\n",
       "      <th>f2_end</th>\n",
       "      <th>cost</th>\n",
       "    </tr>\n",
       "  </thead>\n",
       "  <tbody>\n",
       "    <tr>\n",
       "      <th>0</th>\n",
       "      <td>7874</td>\n",
       "      <td>165462</td>\n",
       "      <td>11November_2009_Wednesday_tagesschau_default-0</td>\n",
       "      <td>01October_2009_Thursday_tagesschau_default-0</td>\n",
       "      <td>15</td>\n",
       "      <td>374</td>\n",
       "      <td>24</td>\n",
       "      <td>48</td>\n",
       "      <td>28</td>\n",
       "      <td>56</td>\n",
       "      <td>0.000025</td>\n",
       "    </tr>\n",
       "    <tr>\n",
       "      <th>1</th>\n",
       "      <td>8744</td>\n",
       "      <td>69505</td>\n",
       "      <td>30November_2009_Monday_tagesschau_default-0</td>\n",
       "      <td>29April_2010_Thursday_tagesschau_default-0</td>\n",
       "      <td>19</td>\n",
       "      <td>159</td>\n",
       "      <td>12</td>\n",
       "      <td>28</td>\n",
       "      <td>16</td>\n",
       "      <td>32</td>\n",
       "      <td>0.000025</td>\n",
       "    </tr>\n",
       "    <tr>\n",
       "      <th>2</th>\n",
       "      <td>8744</td>\n",
       "      <td>172734</td>\n",
       "      <td>30November_2009_Monday_tagesschau_default-0</td>\n",
       "      <td>30September_2009_Wednesday_tagesschau_default-0</td>\n",
       "      <td>19</td>\n",
       "      <td>390</td>\n",
       "      <td>12</td>\n",
       "      <td>28</td>\n",
       "      <td>16</td>\n",
       "      <td>44</td>\n",
       "      <td>0.000028</td>\n",
       "    </tr>\n",
       "  </tbody>\n",
       "</table>\n",
       "</div>"
      ],
      "text/plain": [
       "   seg_id1  seg_id2                                              f1  \\\n",
       "0     7874   165462  11November_2009_Wednesday_tagesschau_default-0   \n",
       "1     8744    69505     30November_2009_Monday_tagesschau_default-0   \n",
       "2     8744   172734     30November_2009_Monday_tagesschau_default-0   \n",
       "\n",
       "                                                f2  f1_id  f2_id  f1_start  \\\n",
       "0     01October_2009_Thursday_tagesschau_default-0     15    374        24   \n",
       "1       29April_2010_Thursday_tagesschau_default-0     19    159        12   \n",
       "2  30September_2009_Wednesday_tagesschau_default-0     19    390        12   \n",
       "\n",
       "   f1_end  f2_start  f2_end      cost  \n",
       "0      48        28      56  0.000025  \n",
       "1      28        16      32  0.000025  \n",
       "2      28        16      44  0.000028  "
      ]
     },
     "execution_count": 9,
     "metadata": {},
     "output_type": "execute_result"
    }
   ],
   "source": [
    "matches_df.head(3)"
   ]
  },
  {
   "cell_type": "markdown",
   "metadata": {},
   "source": [
    "## clustering"
   ]
  },
  {
   "cell_type": "code",
   "execution_count": 11,
   "metadata": {},
   "outputs": [],
   "source": [
    "from clustering.comm_detection import run_clustering_Modularity\n",
    "from clustering.wrappers import run_clustering"
   ]
  },
  {
   "cell_type": "code",
   "execution_count": 12,
   "metadata": {},
   "outputs": [],
   "source": [
    "params = {**params, \n",
    "                 'config_file': join(os.getcwd(), 'config/config_phoenix.json'),\n",
    "                 'dataset': 'phoenix',\n",
    "                 'disc_method': 'knn',\n",
    "                 'exp_root': join(os.getcwd(), 'results'),\n",
    "                 'njobs': 2}\n",
    " \n",
    "\n",
    "params['clustering'] =     {\n",
    "                       'method': 'modularity',\n",
    "                       'cost_thr': 0.5,\n",
    "                       'peak_thr': 0.5,\n",
    "                       'modularity_thr': 0,\n",
    "                       'clus_alg': 'fastgreedy',\n",
    "                       'min_cluster_size':2,\n",
    "                       'dedupthr': 0.5,\n",
    "                       }\n",
    "\n",
    "params['expname'] = 'deneme'\n",
    "\n",
    "seq_names = sorted(feats_dict.keys())\n"
   ]
  },
  {
   "cell_type": "code",
   "execution_count": 13,
   "metadata": {},
   "outputs": [
    {
     "name": "stdout",
     "output_type": "stream",
     "text": [
      "*** mean edge weight is 0.557 after cost threshold ***\n",
      "*** similarity profile computed ***\n",
      "*** node centers found ***\n",
      "*** graph constructed ***\n",
      "*** vertex mapping done ***\n",
      "*** graph clustering done !! ***\n",
      "*** intervals found ***\n",
      "*** post disc completed, found 24 segments from 8 clusters ***\n"
     ]
    }
   ],
   "source": [
    "nodes_df, clusters_list, postdisc_name = run_clustering(seq_names, matches_df, params)\n",
    "print('*** post disc completed, found {} segments from {} clusters ***'.format(len(nodes_df), len(clusters_list)))"
   ]
  },
  {
   "cell_type": "code",
   "execution_count": 14,
   "metadata": {
    "scrolled": true
   },
   "outputs": [
    {
     "data": {
      "text/html": [
       "<div>\n",
       "<style scoped>\n",
       "    .dataframe tbody tr th:only-of-type {\n",
       "        vertical-align: middle;\n",
       "    }\n",
       "\n",
       "    .dataframe tbody tr th {\n",
       "        vertical-align: top;\n",
       "    }\n",
       "\n",
       "    .dataframe thead th {\n",
       "        text-align: right;\n",
       "    }\n",
       "</style>\n",
       "<table border=\"1\" class=\"dataframe\">\n",
       "  <thead>\n",
       "    <tr style=\"text-align: right;\">\n",
       "      <th></th>\n",
       "      <th>filename</th>\n",
       "      <th>idx</th>\n",
       "      <th>start</th>\n",
       "      <th>end</th>\n",
       "    </tr>\n",
       "  </thead>\n",
       "  <tbody>\n",
       "    <tr>\n",
       "      <th>1</th>\n",
       "      <td>01October_2009_Thursday_tagesschau_default-0</td>\n",
       "      <td>32</td>\n",
       "      <td>24</td>\n",
       "      <td>47</td>\n",
       "    </tr>\n",
       "    <tr>\n",
       "      <th>2</th>\n",
       "      <td>06April_2010_Tuesday_tagesschau_default-0</td>\n",
       "      <td>21</td>\n",
       "      <td>8</td>\n",
       "      <td>36</td>\n",
       "    </tr>\n",
       "    <tr>\n",
       "      <th>3</th>\n",
       "      <td>08June_2010_Tuesday_tagesschau_default-0</td>\n",
       "      <td>19</td>\n",
       "      <td>9</td>\n",
       "      <td>30</td>\n",
       "    </tr>\n",
       "    <tr>\n",
       "      <th>4</th>\n",
       "      <td>09February_2010_Tuesday_tagesschau_default-0</td>\n",
       "      <td>19</td>\n",
       "      <td>10</td>\n",
       "      <td>28</td>\n",
       "    </tr>\n",
       "    <tr>\n",
       "      <th>5</th>\n",
       "      <td>10February_2010_Wednesday_tagesschau_default-0</td>\n",
       "      <td>39</td>\n",
       "      <td>8</td>\n",
       "      <td>72</td>\n",
       "    </tr>\n",
       "    <tr>\n",
       "      <th>6</th>\n",
       "      <td>11February_2010_Thursday_tagesschau_default-0</td>\n",
       "      <td>21</td>\n",
       "      <td>16</td>\n",
       "      <td>36</td>\n",
       "    </tr>\n",
       "    <tr>\n",
       "      <th>7</th>\n",
       "      <td>11November_2009_Wednesday_tagesschau_default-0</td>\n",
       "      <td>35</td>\n",
       "      <td>24</td>\n",
       "      <td>48</td>\n",
       "    </tr>\n",
       "    <tr>\n",
       "      <th>8</th>\n",
       "      <td>12January_2010_Tuesday_heute_default-1</td>\n",
       "      <td>43</td>\n",
       "      <td>36</td>\n",
       "      <td>52</td>\n",
       "    </tr>\n",
       "    <tr>\n",
       "      <th>9</th>\n",
       "      <td>12January_2010_Tuesday_tagesschau_default-0</td>\n",
       "      <td>15</td>\n",
       "      <td>8</td>\n",
       "      <td>26</td>\n",
       "    </tr>\n",
       "    <tr>\n",
       "      <th>10</th>\n",
       "      <td>14June_2010_Monday_tagesschau_default-0</td>\n",
       "      <td>15</td>\n",
       "      <td>8</td>\n",
       "      <td>28</td>\n",
       "    </tr>\n",
       "    <tr>\n",
       "      <th>11</th>\n",
       "      <td>14May_2010_Friday_tagesschau_default-0</td>\n",
       "      <td>53</td>\n",
       "      <td>44</td>\n",
       "      <td>64</td>\n",
       "    </tr>\n",
       "    <tr>\n",
       "      <th>12</th>\n",
       "      <td>15May_2010_Saturday_tagesschau_default-0</td>\n",
       "      <td>19</td>\n",
       "      <td>12</td>\n",
       "      <td>28</td>\n",
       "    </tr>\n",
       "    <tr>\n",
       "      <th>13</th>\n",
       "      <td>16April_2010_Friday_tagesschau_default-0</td>\n",
       "      <td>15</td>\n",
       "      <td>8</td>\n",
       "      <td>24</td>\n",
       "    </tr>\n",
       "    <tr>\n",
       "      <th>14</th>\n",
       "      <td>16April_2010_Friday_tagesschau_default-0</td>\n",
       "      <td>37</td>\n",
       "      <td>28</td>\n",
       "      <td>48</td>\n",
       "    </tr>\n",
       "    <tr>\n",
       "      <th>15</th>\n",
       "      <td>17April_2010_Saturday_tagesschau_default-0</td>\n",
       "      <td>21</td>\n",
       "      <td>10</td>\n",
       "      <td>37</td>\n",
       "    </tr>\n",
       "    <tr>\n",
       "      <th>16</th>\n",
       "      <td>22April_2010_Thursday_heute_default-0</td>\n",
       "      <td>15</td>\n",
       "      <td>8</td>\n",
       "      <td>24</td>\n",
       "    </tr>\n",
       "    <tr>\n",
       "      <th>17</th>\n",
       "      <td>22April_2010_Thursday_tagesschau_default-0</td>\n",
       "      <td>21</td>\n",
       "      <td>8</td>\n",
       "      <td>36</td>\n",
       "    </tr>\n",
       "    <tr>\n",
       "      <th>18</th>\n",
       "      <td>25August_2010_Wednesday_tagesschau_default-0</td>\n",
       "      <td>23</td>\n",
       "      <td>8</td>\n",
       "      <td>43</td>\n",
       "    </tr>\n",
       "    <tr>\n",
       "      <th>19</th>\n",
       "      <td>25January_2010_Monday_tagesschau_default-3</td>\n",
       "      <td>71</td>\n",
       "      <td>64</td>\n",
       "      <td>80</td>\n",
       "    </tr>\n",
       "    <tr>\n",
       "      <th>20</th>\n",
       "      <td>28April_2010_Wednesday_heute_default-0</td>\n",
       "      <td>15</td>\n",
       "      <td>8</td>\n",
       "      <td>24</td>\n",
       "    </tr>\n",
       "    <tr>\n",
       "      <th>21</th>\n",
       "      <td>29April_2010_Thursday_tagesschau_default-0</td>\n",
       "      <td>22</td>\n",
       "      <td>9</td>\n",
       "      <td>30</td>\n",
       "    </tr>\n",
       "    <tr>\n",
       "      <th>22</th>\n",
       "      <td>30November_2009_Monday_tagesschau_default-0</td>\n",
       "      <td>19</td>\n",
       "      <td>12</td>\n",
       "      <td>28</td>\n",
       "    </tr>\n",
       "    <tr>\n",
       "      <th>23</th>\n",
       "      <td>30September_2009_Wednesday_tagesschau_default-0</td>\n",
       "      <td>29</td>\n",
       "      <td>16</td>\n",
       "      <td>43</td>\n",
       "    </tr>\n",
       "    <tr>\n",
       "      <th>24</th>\n",
       "      <td>31October_2009_Saturday_tagesschau_default-0</td>\n",
       "      <td>27</td>\n",
       "      <td>20</td>\n",
       "      <td>36</td>\n",
       "    </tr>\n",
       "  </tbody>\n",
       "</table>\n",
       "</div>"
      ],
      "text/plain": [
       "                                           filename  idx  start  end\n",
       "1      01October_2009_Thursday_tagesschau_default-0   32     24   47\n",
       "2         06April_2010_Tuesday_tagesschau_default-0   21      8   36\n",
       "3          08June_2010_Tuesday_tagesschau_default-0   19      9   30\n",
       "4      09February_2010_Tuesday_tagesschau_default-0   19     10   28\n",
       "5    10February_2010_Wednesday_tagesschau_default-0   39      8   72\n",
       "6     11February_2010_Thursday_tagesschau_default-0   21     16   36\n",
       "7    11November_2009_Wednesday_tagesschau_default-0   35     24   48\n",
       "8            12January_2010_Tuesday_heute_default-1   43     36   52\n",
       "9       12January_2010_Tuesday_tagesschau_default-0   15      8   26\n",
       "10          14June_2010_Monday_tagesschau_default-0   15      8   28\n",
       "11           14May_2010_Friday_tagesschau_default-0   53     44   64\n",
       "12         15May_2010_Saturday_tagesschau_default-0   19     12   28\n",
       "13         16April_2010_Friday_tagesschau_default-0   15      8   24\n",
       "14         16April_2010_Friday_tagesschau_default-0   37     28   48\n",
       "15       17April_2010_Saturday_tagesschau_default-0   21     10   37\n",
       "16            22April_2010_Thursday_heute_default-0   15      8   24\n",
       "17       22April_2010_Thursday_tagesschau_default-0   21      8   36\n",
       "18     25August_2010_Wednesday_tagesschau_default-0   23      8   43\n",
       "19       25January_2010_Monday_tagesschau_default-3   71     64   80\n",
       "20           28April_2010_Wednesday_heute_default-0   15      8   24\n",
       "21       29April_2010_Thursday_tagesschau_default-0   22      9   30\n",
       "22      30November_2009_Monday_tagesschau_default-0   19     12   28\n",
       "23  30September_2009_Wednesday_tagesschau_default-0   29     16   43\n",
       "24     31October_2009_Saturday_tagesschau_default-0   27     20   36"
      ]
     },
     "execution_count": 14,
     "metadata": {},
     "output_type": "execute_result"
    }
   ],
   "source": [
    "nodes_df"
   ]
  },
  {
   "cell_type": "code",
   "execution_count": 22,
   "metadata": {},
   "outputs": [
    {
     "data": {
      "text/plain": [
       "[[1, 3, 7, 10, 18],\n",
       " [2, 9, 15, 21],\n",
       " [4, 5, 17, 22, 23],\n",
       " [6, 13],\n",
       " [8, 19],\n",
       " [11, 14],\n",
       " [12, 24],\n",
       " [16, 20]]"
      ]
     },
     "execution_count": 22,
     "metadata": {},
     "output_type": "execute_result"
    }
   ],
   "source": [
    "# the numbers refer to row indices of nodes dataframe above\n",
    "clusters_list"
   ]
  },
  {
   "cell_type": "markdown",
   "metadata": {},
   "source": [
    "## evaluation"
   ]
  },
  {
   "cell_type": "code",
   "execution_count": 15,
   "metadata": {},
   "outputs": [],
   "source": [
    "# adjust library paths\n",
    "\n",
    "# change according to your tde build\n",
    "TDEROOT='/home/korhan/Desktop/tez/tdev2/tdev2'    \n",
    "\n",
    "# to activate conda env from bash script for evaluation, change according to your conda env\n",
    "SOURCE = glob.glob('/home/korhan/*/etc/profile.d/conda.sh')[0] \n"
   ]
  },
  {
   "cell_type": "code",
   "execution_count": 16,
   "metadata": {},
   "outputs": [],
   "source": [
    "import subprocess\n",
    "from utils.helper_fncs import load_json\n",
    "\n",
    "dataset= \"phoenix\"\n",
    "jobs=2\n",
    "outdir = join(params['exp_root'],params['expname'], postdisc_name)\n",
    "os.makedirs(outdir, exist_ok=1)\n",
    "\n",
    "with open(join(outdir, 'seq_names.txt'), 'w') as f: f.write('\\n'.join(seq_names))\n",
    "\n",
    "\n",
    "cmd = './run_tde.sh {} {} {} {} {} {} {} {}'.format(TDEROOT, outdir, dataset, \n",
    "                                                    'sdtw', join(outdir, 'scores.json'), \n",
    "                                                    jobs, params['config_file'], SOURCE )\n"
   ]
  },
  {
   "cell_type": "code",
   "execution_count": 19,
   "metadata": {},
   "outputs": [],
   "source": [
    "subprocess.call(cmd.split())   \n",
    "\n",
    "try:\n",
    "    scores = load_json(outdir + '/scores.json')\n",
    "\n",
    "except Exception as exc:\n",
    "\n",
    "    print(traceback.format_exc())\n",
    "    print(exc)\n",
    "    scores = {'ned':100.0, 'coverageNS': 0.0}\n",
    "\n",
    "if 'ned' not in scores.keys(): scores['ned'] = 100.0\n",
    "if 'coverageNS' not in scores.keys(): scores['coverageNS'] = 0.0"
   ]
  },
  {
   "cell_type": "code",
   "execution_count": 20,
   "metadata": {},
   "outputs": [
    {
     "data": {
      "text/plain": [
       "{'ned': 28.49,\n",
       " 'coverage': 0.86,\n",
       " 'coverageNS': 0.97,\n",
       " 'coverageNS_f': 1.02,\n",
       " 'grouping_F': 60.42,\n",
       " 'grouping_P': 54.17,\n",
       " 'grouping_R': 68.42,\n",
       " 'token_F': 0.19,\n",
       " 'token_P': 20.83,\n",
       " 'token_R': 0.09,\n",
       " 'type_F': 1.44,\n",
       " 'type_P': 30.0,\n",
       " 'type_R': 0.74,\n",
       " 'boundary_F': 1.64,\n",
       " 'boundary_P': 100.0,\n",
       " 'boundary_R': 0.83,\n",
       " 'n_clus': 8,\n",
       " 'n_node': 24,\n",
       " 'exp_path': '/home/korhan/Desktop/knn_utd/results/deneme/post_cost0.5_peak0.5_q0_fastgreedyAlg_mc2'}"
      ]
     },
     "execution_count": 20,
     "metadata": {},
     "output_type": "execute_result"
    }
   ],
   "source": [
    "scores"
   ]
  },
  {
   "cell_type": "code",
   "execution_count": null,
   "metadata": {},
   "outputs": [],
   "source": []
  }
 ],
 "metadata": {
  "kernelspec": {
   "display_name": "tez",
   "language": "python",
   "name": "tez"
  },
  "language_info": {
   "codemirror_mode": {
    "name": "ipython",
    "version": 3
   },
   "file_extension": ".py",
   "mimetype": "text/x-python",
   "name": "python",
   "nbconvert_exporter": "python",
   "pygments_lexer": "ipython3",
   "version": "3.6.8"
  }
 },
 "nbformat": 4,
 "nbformat_minor": 2
}
